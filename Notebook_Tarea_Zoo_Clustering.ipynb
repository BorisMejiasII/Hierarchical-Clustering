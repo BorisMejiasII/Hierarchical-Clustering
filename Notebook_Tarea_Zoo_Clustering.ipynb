{
  "cells": [
    {
      "cell_type": "markdown",
      "metadata": {
        "id": "view-in-github",
        "colab_type": "text"
      },
      "source": [
        "<a href=\"https://colab.research.google.com/github/BorisMejiasII/Hierarchical-Clustering/blob/main/Notebook_Tarea_Zoo_Clustering.ipynb\" target=\"_parent\"><img src=\"https://colab.research.google.com/assets/colab-badge.svg\" alt=\"Open In Colab\"/></a>"
      ]
    },
    {
      "cell_type": "markdown",
      "metadata": {
        "id": "iZbmjxzYR1hc"
      },
      "source": [
        "# Clustering Jerárquico en el Dataset Zoo\n",
        "Este notebook es una base para la tarea de clustering jerárquico usando el dataset Zoo."
      ],
      "id": "iZbmjxzYR1hc"
    },
    {
      "cell_type": "code",
      "execution_count": null,
      "metadata": {
        "id": "O-lMc9_vR1he"
      },
      "outputs": [],
      "source": [
        "# Paso 1: Cargar el dataset\n"
      ],
      "id": "O-lMc9_vR1he"
    },
    {
      "cell_type": "code",
      "execution_count": null,
      "metadata": {
        "id": "bKn_IsmFR1hf"
      },
      "outputs": [],
      "source": [
        "# Paso 2: Preprocesamiento (One Hot Encoding y Escalamiento)\n"
      ],
      "id": "bKn_IsmFR1hf"
    },
    {
      "cell_type": "code",
      "execution_count": null,
      "metadata": {
        "id": "dwNKOBqKR1hf"
      },
      "outputs": [],
      "source": [
        "# Paso 3: Clustering Jerárquico\n"
      ],
      "id": "dwNKOBqKR1hf"
    },
    {
      "cell_type": "code",
      "execution_count": null,
      "metadata": {
        "id": "FSil7rSnR1hf"
      },
      "outputs": [],
      "source": [
        "# Paso 4: Heatmap\n"
      ],
      "id": "FSil7rSnR1hf"
    },
    {
      "cell_type": "markdown",
      "id": "bb0d747a",
      "metadata": {
        "id": "bb0d747a"
      },
      "source": [
        "# Conclusiones\n",
        "Escribe aquí tus conclusiones sobre las agrupaciones obtenidas en el clustering jerárquico."
      ]
    },
    {
      "cell_type": "markdown",
      "id": "b125befc",
      "metadata": {
        "id": "b125befc"
      },
      "source": [
        "## Pregunta 1\n",
        "1. ¿Cuántos clusters se pueden identificar claramente en el dendrograma?\n",
        "\n",
        "Escribe tu respuesta aquí."
      ]
    },
    {
      "cell_type": "markdown",
      "id": "c61a1f0f",
      "metadata": {
        "id": "c61a1f0f"
      },
      "source": [
        "## Pregunta 2\n",
        "2. ¿Qué características parecen determinar la formación de los clusters?\n",
        "\n",
        "Escribe tu respuesta aquí."
      ]
    },
    {
      "cell_type": "markdown",
      "id": "5425a5f1",
      "metadata": {
        "id": "5425a5f1"
      },
      "source": [
        "## Pregunta 3\n",
        "3. ¿Los resultados del clustering tienen sentido biológico o zoológico?\n",
        "\n",
        "Escribe tu respuesta aquí."
      ]
    },
    {
      "cell_type": "markdown",
      "id": "5e00ec6a",
      "metadata": {
        "id": "5e00ec6a"
      },
      "source": [
        "## Pregunta 4\n",
        "4. ¿Cómo afecta la normalización de los datos al clustering?\n",
        "\n",
        "Escribe tu respuesta aquí."
      ]
    },
    {
      "cell_type": "markdown",
      "id": "0138317d",
      "metadata": {
        "id": "0138317d"
      },
      "source": [
        "## Pregunta 5\n",
        "5. ¿Qué método de linkage utilizaste y por qué?\n",
        "\n",
        "Escribe tu respuesta aquí."
      ]
    },
    {
      "cell_type": "markdown",
      "id": "ee990c25",
      "metadata": {
        "id": "ee990c25"
      },
      "source": [
        "## Pregunta 6\n",
        "6. ¿Qué otras técnicas de clustering podrías aplicar a este dataset y por qué?\n",
        "\n",
        "Escribe tu respuesta aquí."
      ]
    }
  ],
  "metadata": {
    "kernelspec": {
      "display_name": "Python 3",
      "language": "python",
      "name": "python3"
    },
    "language_info": {
      "name": "python",
      "version": "3.9"
    },
    "colab": {
      "provenance": [],
      "include_colab_link": true
    }
  },
  "nbformat": 4,
  "nbformat_minor": 5
}